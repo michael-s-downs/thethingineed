{
 "cells": [
  {
   "cell_type": "code",
   "execution_count": 2,
   "metadata": {},
   "outputs": [],
   "source": [
    "import os\n",
    "from azure.core.credentials import AzureKeyCredential\n",
    "from azure.search.documents import SearchClient\n",
    "\n",
    "service_endpoint = \"https://techhubragemeal.search.windows.net\"\n",
    "index_name = \"test1_ivan\"\n",
    "key = \"gIdkoLfWkqpfgyhpaABFcRDsGxr2mS9cM3Nh1HbCBIAzSeAbtXfr\"\n",
    "\n",
    "search_client = SearchClient(service_endpoint, index_name, AzureKeyCredential(key))"
   ]
  },
  {
   "cell_type": "code",
   "execution_count": 4,
   "metadata": {},
   "outputs": [
    {
     "name": "stdout",
     "output_type": "stream",
     "text": [
      "Upload of new document succeeded: True\n"
     ]
    }
   ],
   "source": [
    "DOCUMENT = {\n",
    "    \"id\": \"Hotel\",\n",
    "    \"file\": \"1000\",\n",
    "    \"content\":\"content de prueba\",\n",
    "}\n",
    "\n",
    "result = search_client.upload_documents(documents=[DOCUMENT])\n",
    "\n",
    "print(\"Upload of new document succeeded: {}\".format(result[0].succeeded))"
   ]
  },
  {
   "cell_type": "code",
   "execution_count": 11,
   "metadata": {},
   "outputs": [
    {
     "name": "stdout",
     "output_type": "stream",
     "text": [
      "Upload of new document succeeded: True\n"
     ]
    }
   ],
   "source": [
    "DOCUMENT = {\n",
    "    \"id\": \"4\",\n",
    "    \"file\": \"prueba.txt\",\n",
    "    \"content_2\":\"fernando alonso ganara la 33 en 2026\",\n",
    "}\n",
    "\n",
    "result = search_client.upload_documents(documents=[DOCUMENT])\n",
    "\n",
    "print(\"Upload of new document succeeded: {}\".format(result[0].succeeded))"
   ]
  },
  {
   "cell_type": "code",
   "execution_count": 12,
   "metadata": {},
   "outputs": [
    {
     "data": {
      "text/plain": [
       "<iterator object azure.core.paging.ItemPaged at 0x190f88f0ad0>"
      ]
     },
     "execution_count": 12,
     "metadata": {},
     "output_type": "execute_result"
    }
   ],
   "source": [
    "results = search_client.search(search_text=\"ducati\")\n",
    "\n",
    "results"
   ]
  },
  {
   "cell_type": "code",
   "execution_count": 19,
   "metadata": {},
   "outputs": [],
   "source": [
    "for result in results:\n",
    "    print(\"{})\".format(result[\"value\"])) "
   ]
  }
 ],
 "metadata": {
  "kernelspec": {
   "display_name": ".indexing_venv",
   "language": "python",
   "name": "python3"
  },
  "language_info": {
   "codemirror_mode": {
    "name": "ipython",
    "version": 3
   },
   "file_extension": ".py",
   "mimetype": "text/x-python",
   "name": "python",
   "nbconvert_exporter": "python",
   "pygments_lexer": "ipython3",
   "version": "3.11.9"
  }
 },
 "nbformat": 4,
 "nbformat_minor": 2
}
