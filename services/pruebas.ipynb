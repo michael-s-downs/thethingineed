{
 "cells": [
  {
   "cell_type": "code",
   "execution_count": 30,
   "metadata": {},
   "outputs": [],
   "source": [
    "import os\n",
    "from azure.core.credentials import AzureKeyCredential\n",
    "from azure.search.documents import SearchClient\n",
    "\n",
    "service_endpoint = \"https://techhubragemeal.search.windows.net\"\n",
    "index_name = \"test2_ivan\"\n",
    "key = \"gIdkoLfWkqpfgyhpaABFcRDsGxr2mS9cM3Nh1HbCBIAzSeAbtXfr\"\n",
    "\n",
    "search_client = SearchClient(service_endpoint, index_name, AzureKeyCredential(key))"
   ]
  },
  {
   "cell_type": "code",
   "execution_count": 9,
   "metadata": {},
   "outputs": [],
   "source": [
    "from azure.search.documents.indexes import SearchIndexClient\n",
    "from azure.search.documents.indexes.models import SearchIndex, SimpleField, SearchableField, SearchFieldDataType, SearchField, ComplexField"
   ]
  },
  {
   "cell_type": "code",
   "execution_count": 13,
   "metadata": {},
   "outputs": [],
   "source": [
    "\n",
    "client = SearchIndexClient(service_endpoint, AzureKeyCredential(key))\n",
    "name = \"hotels\"\n",
    "fields = [\n",
    "    SearchField(name=\"id\", type=SearchFieldDataType.String, key=True),  # Unique document ID\n",
    "    SearchField(name=\"content\", type=SearchFieldDataType.String, searchable=True),  # The searchable string field\n",
    "    SearchField(name=\"embeddings\", type=SearchFieldDataType.Collection(SearchFieldDataType.Double)),  # List of floats\n",
    "    ComplexField(name=\"metadata\", fields=[  # JSON field as a structured object\n",
    "        SearchField(name=\"uri\", type=SearchFieldDataType.String),\n",
    "        SearchField(name=\"filename\", type=SearchFieldDataType.String)  # JSON as a string (or add subfields)\n",
    "    ])\n",
    "]\n",
    "index = SearchIndex(name=index_name, fields=fields)\n",
    "\n",
    "result = client.create_index(index)"
   ]
  },
  {
   "cell_type": "code",
   "execution_count": 22,
   "metadata": {},
   "outputs": [
    {
     "name": "stdout",
     "output_type": "stream",
     "text": [
      "Upload of new document succeeded: True\n"
     ]
    }
   ],
   "source": [
    "DOCUMENT = {\n",
    "    \"id\": \"asdfasfdasf\",\n",
    "    \"content\": \"Contenido de ejemplo 123132123 asdfasdfasfdasdf\",\n",
    "    \"metadata\": {\"uri\": \"https://ejemplo.com\", \"filename\": \"file1.txt\"},\n",
    "    \"embeddings\": [0.1, 0.2, 0.34]\n",
    "}\n",
    "\n",
    "result = search_client.upload_documents(documents=[DOCUMENT])\n",
    "\n",
    "print(\"Upload of new document succeeded: {}\".format(result[0].succeeded))"
   ]
  },
  {
   "cell_type": "code",
   "execution_count": 36,
   "metadata": {},
   "outputs": [
    {
     "name": "stdout",
     "output_type": "stream",
     "text": [
      "Upload of new document succeeded: True\n"
     ]
    }
   ],
   "source": [
    "DOCUMENT = {\n",
    "    \"id\": \"asdfasfdasf2\",\n",
    "    \"content\": \"otro contenido\",\n",
    "    \"metadata\": {\"uri\": \"https://ivan.com\", \"filename\": \"ivan.txt\"},\n",
    "    \"embeddings\": [0.1, 0.2, 0.34]\n",
    "}\n",
    "\n",
    "result = search_client.upload_documents(documents=[DOCUMENT])\n",
    "\n",
    "print(\"Upload of new document succeeded: {}\".format(result[0].succeeded))"
   ]
  },
  {
   "cell_type": "code",
   "execution_count": 35,
   "metadata": {},
   "outputs": [
    {
     "name": "stdout",
     "output_type": "stream",
     "text": [
      "Upload of new document succeeded: True\n"
     ]
    }
   ],
   "source": [
    "DOCUMENT = {\n",
    "    \"id\": \"asdfasfdasf3\",\n",
    "    \"content\": \"otro contenido2\",\n",
    "    \"metadata\": {\"uri\": \"https://ivan.com\", \"filename\": \"ivan.txt\"},\n",
    "    \"embeddings\": [0.1, 0.2, 0.34]\n",
    "}\n",
    "\n",
    "result = search_client.upload_documents(documents=[DOCUMENT])\n",
    "\n",
    "print(\"Upload of new document succeeded: {}\".format(result[0].succeeded))"
   ]
  },
  {
   "cell_type": "code",
   "execution_count": 34,
   "metadata": {},
   "outputs": [
    {
     "name": "stdout",
     "output_type": "stream",
     "text": [
      "Upload of new document succeeded: True\n"
     ]
    }
   ],
   "source": [
    "DOCUMENT = {\n",
    "    \"id\": \"asdfasfdasf4\",\n",
    "    \"content\": \"otro contenido27\",\n",
    "    \"metadata\": {\"uri\": \"https://ivan.com\", \"filename\": \"ivan.txt\"},\n",
    "    \"embeddings\": [0.1, 0.2, 0.34]\n",
    "}\n",
    "\n",
    "result = search_client.upload_documents(documents=[DOCUMENT])\n",
    "\n",
    "print(\"Upload of new document succeeded: {}\".format(result[0].succeeded))"
   ]
  },
  {
   "cell_type": "code",
   "execution_count": 23,
   "metadata": {},
   "outputs": [
    {
     "data": {
      "text/plain": [
       "<iterator object azure.core.paging.ItemPaged at 0x17d5ed55c10>"
      ]
     },
     "execution_count": 23,
     "metadata": {},
     "output_type": "execute_result"
    }
   ],
   "source": [
    "results = search_client.search(search_text=\"ducati\")\n",
    "\n",
    "results"
   ]
  },
  {
   "cell_type": "code",
   "execution_count": 24,
   "metadata": {},
   "outputs": [],
   "source": [
    "for result in results:\n",
    "    print(\"{})\".format(result[\"value\"])) "
   ]
  },
  {
   "cell_type": "code",
   "execution_count": 38,
   "metadata": {},
   "outputs": [],
   "source": [
    "import logging\n",
    "import sys\n",
    "from azure.core.credentials import AzureKeyCredential\n",
    "from azure.search.documents import SearchClient\n",
    "from azure.search.documents.indexes import SearchIndexClient\n",
    "from IPython.display import Markdown, display\n",
    "from llama_index.core import (\n",
    "    SimpleDirectoryReader,\n",
    "    StorageContext,\n",
    "    VectorStoreIndex,\n",
    ")\n",
    "from llama_index.core.settings import Settings\n",
    "from llama_index.llms.azure_openai import AzureOpenAI\n",
    "from llama_index.embeddings.azure_openai import AzureOpenAIEmbedding\n",
    "from llama_index.vector_stores.azureaisearch import AzureAISearchVectorStore\n",
    "from llama_index.vector_stores.azureaisearch import (\n",
    "    IndexManagement,\n",
    "    MetadataIndexFieldType,\n",
    ")"
   ]
  },
  {
   "cell_type": "code",
   "execution_count": null,
   "metadata": {},
   "outputs": [],
   "source": [
    "search_service_api_key = \"YOUR-AZURE-SEARCH-SERVICE-ADMIN-KEY\"\n",
    "search_service_endpoint = \"YOUR-AZURE-SEARCH-SERVICE-ENDPOINT\"\n",
    "search_service_api_version = \"2024-07-01\"\n",
    "credential = AzureKeyCredential(search_service_api_key)\n",
    "\n",
    "\n",
    "# Index name to use\n",
    "index_name = \"llamaindex-vector-demo\"\n",
    "\n",
    "# Use index client to demonstrate creating an index\n",
    "index_client = SearchIndexClient(\n",
    "    endpoint=search_service_endpoint,\n",
    "    credential=credential,\n",
    ")\n",
    "\n",
    "# Use search client to demonstration using existing index\n",
    "search_client = SearchClient(\n",
    "    endpoint=search_service_endpoint,\n",
    "    index_name=index_name,\n",
    "    credential=credential,\n",
    ")"
   ]
  }
 ],
 "metadata": {
  "kernelspec": {
   "display_name": ".indexing_venv",
   "language": "python",
   "name": "python3"
  },
  "language_info": {
   "codemirror_mode": {
    "name": "ipython",
    "version": 3
   },
   "file_extension": ".py",
   "mimetype": "text/x-python",
   "name": "python",
   "nbconvert_exporter": "python",
   "pygments_lexer": "ipython3",
   "version": "3.11.9"
  }
 },
 "nbformat": 4,
 "nbformat_minor": 2
}
